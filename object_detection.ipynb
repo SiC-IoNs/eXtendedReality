{
 "cells": [
  {
   "cell_type": "markdown",
   "metadata": {},
   "source": [
    "# Object detection and tracking"
   ]
  },
  {
   "cell_type": "code",
   "metadata": {
    "ExecuteTime": {
     "end_time": "2025-05-08T11:09:14.001832Z",
     "start_time": "2025-05-08T11:09:13.199605Z"
    }
   },
   "source": [
    "import numpy as np\n",
    "import cv2\n",
    "import matplotlib.pyplot as plt\n",
    "import os\n",
    "\n",
    "from sympy.codegen import Print\n",
    "\n",
    "%matplotlib inline"
   ],
   "outputs": [],
   "execution_count": 1
  },
  {
   "cell_type": "markdown",
   "metadata": {},
   "source": "## Color Detection - Finding Red Objects in Camera Feed"
  },
  {
   "cell_type": "code",
   "metadata": {
    "ExecuteTime": {
     "end_time": "2025-05-08T11:09:36.396098Z",
     "start_time": "2025-05-08T11:09:36.120331Z"
    }
   },
   "source": [
    "# Initialize camera\n",
    "cap = cv2.VideoCapture(0)  # Use 0 for default webcam\n",
    "\n",
    "# Capture a single frame\n",
    "ret, frame = cap.read()\n",
    "if ret:\n",
    "    # Convert to RGB for display\n",
    "    frame_rgb = cv2.cvtColor(frame, cv2.COLOR_BGR2RGB)\n",
    "\n",
    "    # Convert to HSV for color detection\n",
    "    frame_hsv = cv2.cvtColor(frame, cv2.COLOR_BGR2HSV)\n",
    "\n",
    "    # Define range for red color (note: red wraps around in HSV, so we need two masks)\n",
    "    lower_red1 = np.array([0, 100, 100])\n",
    "    upper_red1 = np.array([10, 255, 255])\n",
    "    lower_red2 = np.array([160, 100, 100])\n",
    "    upper_red2 = np.array([180, 255, 255])\n",
    "\n",
    "    # Create masks for red regions\n",
    "    mask1 = cv2.inRange(frame_hsv, lower_red1, upper_red1)\n",
    "    mask2 = cv2.inRange(frame_hsv, lower_red2, upper_red2)\n",
    "    mask = cv2.bitwise_or(mask1, mask2)\n",
    "\n",
    "    # Find contours in the mask\n",
    "    contours, _ = cv2.findContours(mask, cv2.RETR_EXTERNAL, cv2.CHAIN_APPROX_SIMPLE)\n",
    "\n",
    "    # Draw rectangles around red objects\n",
    "    result = frame_rgb.copy()\n",
    "    for contour in contours:\n",
    "        # Filter small contours\n",
    "        if cv2.contourArea(contour) > 500:  # Minimum area threshold\n",
    "            x, y, w, h = cv2.boundingRect(contour)\n",
    "            cv2.rectangle(result, (x, y), (x+w, y+h), (0, 255, 0), 2)\n",
    "            cv2.putText(result, \"Red Object\", (x, y-10), cv2.FONT_HERSHEY_SIMPLEX, 0.5, (0, 255, 0), 2)\n",
    "\n",
    "    # Display results\n",
    "    plt.figure(figsize=(15, 10))\n",
    "    plt.subplot(131)\n",
    "    plt.imshow(frame_rgb)\n",
    "    plt.title('Original Image')\n",
    "    plt.axis('off')\n",
    "\n",
    "    plt.subplot(132)\n",
    "    plt.imshow(mask, cmap='gray')\n",
    "    plt.title('Red Mask')\n",
    "    plt.axis('off')\n",
    "\n",
    "    plt.subplot(133)\n",
    "    plt.imshow(result)\n",
    "    plt.title('Red Objects Detected')\n",
    "    plt.axis('off')\n",
    "\n",
    "    plt.tight_layout()\n",
    "    plt.show()\n",
    "\n",
    "    # Release the camera\n",
    "    cap.release()\n",
    "else:\n",
    "    print(\"Failed to capture image from camera\")"
   ],
   "outputs": [
    {
     "data": {
      "text/plain": [
       "<Figure size 1500x1000 with 3 Axes>"
      ],
      "image/png": "[encoded data removed]"
     },
     "metadata": {},
     "output_type": "display_data"
    }
   ],
   "execution_count": 6
  },
  {
   "metadata": {
    "ExecuteTime": {
     "end_time": "2025-05-08T11:09:41.219508Z",
     "start_time": "2025-05-08T11:09:41.214891Z"
    }
   },
   "cell_type": "code",
   "source": [
    "import numpy as np\n",
    "\n",
    "import numpy as np\n",
    "import cv2\n",
    "\n",
    "# Convert hex RGB to BGR tuple for OpenCV\n",
    "bgr_target = (0x76, 0x9D, 0x5E)  # (118, 157, 94)\n",
    "\n",
    "# Create a 1×1 image to convert BGR to HSV\n",
    "pixel = np.uint8([[bgr_target]])\n",
    "hsv_target = cv2.cvtColor(pixel, cv2.COLOR_BGR2HSV)[0][0]\n",
    "\n",
    "# Set tolerances\n",
    "tol_h, tol_s, tol_v = 10, 50, 50\n",
    "\n",
    "# Compute lower/upper HSV bounds\n",
    "lower_custom = np.array([\n",
    "    max(int(hsv_target[0]) - tol_h, 0),\n",
    "    max(int(hsv_target[1]) - tol_s, 0),\n",
    "    max(int(hsv_target[2]) - tol_v, 0)\n",
    "])\n",
    "upper_custom = np.array([\n",
    "    min(int(hsv_target[0]) + tol_h, 179),\n",
    "    min(int(hsv_target[1]) + tol_s, 255),\n",
    "    min(int(hsv_target[2]) + tol_v, 255)\n",
    "])\n",
    "print(\"Lower HSV:\", lower_custom)\n",
    "print(\"Upper HSV:\", upper_custom)"
   ],
   "outputs": [
    {
     "name": "stdout",
     "output_type": "stream",
     "text": [
      "Lower HSV: [ 61  52 107]\n",
      "Upper HSV: [ 81 152 207]\n"
     ]
    }
   ],
   "execution_count": 7
  },
  {
   "metadata": {
    "ExecuteTime": {
     "end_time": "2025-05-08T11:09:43.394526Z",
     "start_time": "2025-05-08T11:09:43.392233Z"
    }
   },
   "cell_type": "code",
   "source": "## Real-time Red Color Detection",
   "outputs": [],
   "execution_count": 8
  },
  {
   "cell_type": "code",
   "metadata": {
    "ExecuteTime": {
     "end_time": "2025-05-08T11:15:17.185103Z",
     "start_time": "2025-05-08T11:12:27.424613Z"
    }
   },
   "source": [
    " # For continuous detection (press 'q' to quit)\n",
    "\n",
    "# Kalman filter setup\n",
    "kf = cv2.KalmanFilter(4, 2, 0)\n",
    "kf.transitionMatrix = np.array([[1,0,1,0],\n",
    "                                [0,1,0,1],\n",
    "                                [0,0,1,0],\n",
    "                                [0,0,0,1]], np.float32)\n",
    "kf.measurementMatrix = np.eye(2,4, dtype=np.float32)\n",
    "kf.processNoiseCov = np.eye(4, dtype=np.float32) * 1e-2\n",
    "kf.measurementNoiseCov = np.eye(2, dtype=np.float32) * 1e-1\n",
    "\n",
    "cap = cv2.VideoCapture(0)\n",
    "cap.set(cv2.CAP_PROP_FRAME_WIDTH, 1920)\n",
    "cap.set(cv2.CAP_PROP_FRAME_HEIGHT, 1080)\n",
    "cap.set(cv2.CAP_PROP_FPS, 60)\n",
    "initialized = False\n",
    "\n",
    "try:\n",
    "    while True:\n",
    "        ret, frame = cap.read()\n",
    "        if not ret:\n",
    "            break\n",
    "\n",
    "        # Convert to HSV\n",
    "        frame_hsv = cv2.cvtColor(frame, cv2.COLOR_BGR2HSV)\n",
    "\n",
    "        # Define range for green colour\n",
    "        lower_green = np.array([61, 32, 107])\n",
    "        upper_green = np.array([81, 152, 255])\n",
    "\n",
    "        # Define range for purple colour\n",
    "        lower_purple = np.array([126, 141, 87])\n",
    "        upper_purple = np.array([146, 241, 187])\n",
    "\n",
    "        # Define range for red colour (note: red wraps around in HSV, so we need two masks)\n",
    "        lower_red1 = np.array([0, 100, 100])\n",
    "        upper_red1 = np.array([10, 255, 255])\n",
    "        lower_red2 = np.array([160, 100, 100])\n",
    "        upper_red2 = np.array([180, 200, 200])\n",
    "\n",
    "        # Create mask\n",
    "        mask_green = cv2.inRange(frame_hsv, lower_green, upper_green)\n",
    "        mask_red = cv2.inRange(frame_hsv, lower_red1, upper_red1) | cv2.inRange(frame_hsv, lower_red2, upper_red2)\n",
    "        mask_purple = cv2.inRange(frame_hsv, lower_purple, upper_purple)\n",
    "\n",
    "        # Morphological closing to unite nearby purple regions\n",
    "        kernel = np.ones((5, 5), np.uint8)\n",
    "        mask_purple_closed = cv2.morphologyEx(mask_purple, cv2.MORPH_CLOSE, kernel, iterations=2)\n",
    "\n",
    "        # Find contours on the closed mask\n",
    "        contours_purple, _ = cv2.findContours(mask_purple_closed, cv2.RETR_EXTERNAL, cv2.CHAIN_APPROX_SIMPLE)\n",
    "\n",
    "\n",
    "        # Find contours\n",
    "        contours_red, _ = cv2.findContours(mask_red, cv2.RETR_EXTERNAL, cv2.CHAIN_APPROX_SIMPLE)\n",
    "        contours_green, _ = cv2.findContours(mask_green, cv2.RETR_EXTERNAL, cv2.CHAIN_APPROX_SIMPLE)\n",
    "        #contours_purple, _ = cv2.findContours(mask_purple, cv2.RETR_EXTERNAL, cv2.CHAIN_APPROX_SIMPLE)\n",
    "\n",
    "        # Predict step always runs\n",
    "        prediction = kf.predict()\n",
    "        pred_x, pred_y = int(prediction[0]), int(prediction[1])\n",
    "\n",
    "\n",
    "        # Draw rectangles around green objects\n",
    "        for contour in contours_red:\n",
    "            # TODO: Estimate the size of the object (in our case, a beanie from a distance of x meters, what is the reliable distance?)\n",
    "            # Size of the beanie is approximately 20 cm in diameter -> Size of the contour should be around 20 cm in pixels\n",
    "            # Diameter of the circle is approximately 300 cm\n",
    "            # 1024 pixels = 300 cm\n",
    "            #\n",
    "            if cv2.contourArea(contour) > 100 and cv2.contourArea(contour) < 190:\n",
    "                x, y, w, h = cv2.boundingRect(contour)\n",
    "                cv2.rectangle(frame, (x, y), (x+w, y+h), (0, 0, 255), 2)  # Red rectangle for visibility\n",
    "                cv2.putText(frame, \"Red Object\", (x, y-10), cv2.FONT_HERSHEY_SIMPLEX, 0.5, (0, 255, 0), 2)\n",
    "\n",
    "        for contour in contours_green:\n",
    "            if cv2.contourArea(contour) > 100:# and cv2.contourArea(contour) < 190:\n",
    "                x, y, w, h = cv2.boundingRect(contour)\n",
    "                cv2.rectangle(frame, (x, y), (x+w, y+h), (0, 0, 255), 2)  # Red rectangle for visibility\n",
    "                cv2.putText(frame, \"Green Object\", (x, y-10), cv2.FONT_HERSHEY_SIMPLEX, 0.5, (0, 255, 0), 2)\n",
    "\n",
    "\n",
    "\n",
    "        if contours_purple:\n",
    "            # Combine all contour points\n",
    "            all_pts = np.vstack(contours_purple)\n",
    "\n",
    "            # Option A: single bounding rectangle\n",
    "            #x, y, w, h = cv2.boundingRect(all_pts)\n",
    "            #pointx, pointy = x + y / 2, w + h / 2\n",
    "            #print(\"Pointx: \", pointx, \"Pointy: \", pointy)\n",
    "\n",
    "            M = cv2.moments(all_pts)\n",
    "\n",
    "            if M[\"m00\"] != 0:\n",
    "                cx = float(M[\"m10\"] / M[\"m00\"])\n",
    "                cy = float(M[\"m01\"] / M[\"m00\"])\n",
    "\n",
    "                # --- 3. Initialize filter on first valid centroid ---\n",
    "                if not initialized:\n",
    "                    kf.statePost = np.array([[cx],\n",
    "                                              [cy],\n",
    "                                              [0],\n",
    "                                              [0]], np.float32)\n",
    "                    initialized = True\n",
    "\n",
    "                # --- 4. Correct step with new measurement ---\n",
    "                measurement = np.array([[cx], [cy]], np.float32)\n",
    "                est = kf.correct(measurement)\n",
    "                est_x, est_y = int(est[0]), int(est[1])\n",
    "\n",
    "                # draw filtered center\n",
    "                cv2.circle(frame, (est_x, est_y), 5, (255, 0, 255), -1)\n",
    "                cv2.putText(frame,\n",
    "                            f\"KF Center: ({est_x},{est_y})\",\n",
    "                            (est_x + 10, est_y),\n",
    "                            cv2.FONT_HERSHEY_SIMPLEX, 0.5, (255, 0, 255), 1)\n",
    "            else:\n",
    "                # draw predicted center if no detection\n",
    "                cv2.circle(frame, (pred_x, pred_y), 5, (0, 255, 255), -1)\n",
    "                cv2.putText(frame,\n",
    "                            \"KF Predict\",\n",
    "                            (pred_x + 10, pred_y),\n",
    "                            cv2.FONT_HERSHEY_SIMPLEX, 0.5, (0, 255, 255), 1)\n",
    "\n",
    "        # Display result\n",
    "        cv2.imshow('Green Color Detection', frame)\n",
    "\n",
    "        # Break loop on 'q' key\n",
    "        if cv2.waitKey(1) & 0xFF == ord('q'):\n",
    "            break\n",
    "finally:\n",
    "    cap.release()\n",
    "    cv2.destroyAllWindows()\n",
    "    cv2.waitKey(1)  # This helps ensure all windows are closed properly"
   ],
   "outputs": [
    {
     "name": "stderr",
     "output_type": "stream",
     "text": [
      "/tmp/ipykernel_42689/370984796.py:62: DeprecationWarning: Conversion of an array with ndim > 0 to a scalar is deprecated, and will error in future. Ensure you extract a single element from your array before performing this operation. (Deprecated NumPy 1.25.)\n",
      "  pred_x, pred_y = int(prediction[0]), int(prediction[1])\n",
      "/tmp/ipykernel_42689/370984796.py:111: DeprecationWarning: Conversion of an array with ndim > 0 to a scalar is deprecated, and will error in future. Ensure you extract a single element from your array before performing this operation. (Deprecated NumPy 1.25.)\n",
      "  est_x, est_y = int(est[0]), int(est[1])\n",
      "[ WARN:0@363.848] global cap_v4l.cpp:1048 tryIoctl VIDEOIO(V4L2:/dev/video0): select() timeout.\n"
     ]
    }
   ],
   "execution_count": 11
  },
  {
   "metadata": {
    "ExecuteTime": {
     "end_time": "2025-05-08T11:09:34.988708974Z",
     "start_time": "2025-05-08T08:41:14.405894Z"
    }
   },
   "cell_type": "code",
   "source": "",
   "outputs": [],
   "execution_count": null
  }
 ],
 "metadata": {
  "kernelspec": {
   "display_name": "Python 3 (ipykernel)",
   "language": "python",
   "name": "python3"
  },
  "language_info": {
   "codemirror_mode": {
    "name": "ipython",
    "version": 3
   },
   "file_extension": ".py",
   "mimetype": "text/x-python",
   "name": "python",
   "nbconvert_exporter": "python",
   "pygments_lexer": "ipython3",
   "version": "3.11.5"
  }
 },
 "nbformat": 4,
 "nbformat_minor": 4
}
